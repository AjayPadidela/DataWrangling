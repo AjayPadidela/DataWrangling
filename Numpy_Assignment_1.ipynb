{
 "cells": [
  {
   "cell_type": "markdown",
   "id": "369dd80a",
   "metadata": {},
   "source": [
    "# Q1. Create a Null vector of size 10 but the fifth value which is 1."
   ]
  },
  {
   "cell_type": "code",
   "execution_count": 1,
   "id": "540aa9fd",
   "metadata": {},
   "outputs": [
    {
     "name": "stdout",
     "output_type": "stream",
     "text": [
      "[0 0 0 0 1 0 0 0 0 0]\n"
     ]
    }
   ],
   "source": [
    "import numpy as np\n",
    "a=np.zeros(10,dtype=int)\n",
    "a[4]=1\n",
    "print(a)"
   ]
  },
  {
   "cell_type": "markdown",
   "id": "18ed050d",
   "metadata": {},
   "source": [
    "# Q2. Create a vector with values ranging from 10 to 49."
   ]
  },
  {
   "cell_type": "code",
   "execution_count": 2,
   "id": "5e83808b",
   "metadata": {},
   "outputs": [
    {
     "name": "stdout",
     "output_type": "stream",
     "text": [
      "[10 11 12 13 14 15 16 17 18 19 20 21 22 23 24 25 26 27 28 29 30 31 32 33\n",
      " 34 35 36 37 38 39 40 41 42 43 44 45 46 47 48]\n"
     ]
    }
   ],
   "source": [
    "b=np.arange(10,49)\n",
    "print(b)"
   ]
  },
  {
   "cell_type": "markdown",
   "id": "f385924f",
   "metadata": {},
   "source": [
    "# Q3. Create a 3x3 matrix with values ranging from 0 to 8"
   ]
  },
  {
   "cell_type": "code",
   "execution_count": 3,
   "id": "e3d69131",
   "metadata": {},
   "outputs": [
    {
     "name": "stdout",
     "output_type": "stream",
     "text": [
      "[[0 1 2]\n",
      " [3 4 5]\n",
      " [6 7 8]]\n"
     ]
    }
   ],
   "source": [
    "c = np.arange(9).reshape(3,3)\n",
    "print(c)"
   ]
  },
  {
   "cell_type": "markdown",
   "id": "35f9cb64",
   "metadata": {},
   "source": [
    "# Q4. Find indices of non-zero elements from [1,2,0,0,4,0]"
   ]
  },
  {
   "cell_type": "code",
   "execution_count": 4,
   "id": "466a3709",
   "metadata": {},
   "outputs": [
    {
     "name": "stdout",
     "output_type": "stream",
     "text": [
      "Original array is:  [1 2 0 0 4 0]\n",
      "Indices of non-zero elements are:  (array([0, 1, 4], dtype=int64),)\n"
     ]
    }
   ],
   "source": [
    "s=np.array([1,2,0,0,4,0])\n",
    "print(\"Original array is: \",s)\n",
    "non_zero=np.nonzero(s)\n",
    "print(\"Indices of non-zero elements are: \",non_zero)"
   ]
  },
  {
   "cell_type": "markdown",
   "id": "a9694514",
   "metadata": {},
   "source": [
    "# Q5. Create a 10x10 array with random values and find the minimum and maximum values."
   ]
  },
  {
   "cell_type": "code",
   "execution_count": 5,
   "id": "cfecb791",
   "metadata": {},
   "outputs": [
    {
     "name": "stdout",
     "output_type": "stream",
     "text": [
      "Original Array : \n",
      " [[0.97496678 0.91444233 0.19798279 0.13617822 0.83345693 0.35600268\n",
      "  0.26274246 0.29982706 0.09069126 0.84664223]\n",
      " [0.27900851 0.03087741 0.77398079 0.66305834 0.86546138 0.97547051\n",
      "  0.69825303 0.09347046 0.19655154 0.02744368]\n",
      " [0.19546554 0.84039642 0.36548987 0.72847835 0.72942686 0.14939285\n",
      "  0.95624362 0.37891645 0.5844361  0.52945973]\n",
      " [0.37393124 0.59811105 0.06098292 0.48777141 0.42153258 0.71304705\n",
      "  0.40419984 0.68054063 0.11025207 0.71301754]\n",
      " [0.8811933  0.48450293 0.7911143  0.33368433 0.3736019  0.27348359\n",
      "  0.57099935 0.31810927 0.87109383 0.28181488]\n",
      " [0.59799397 0.64293944 0.90579325 0.5804387  0.55882871 0.62523646\n",
      "  0.00432967 0.92599426 0.86240362 0.40836841]\n",
      " [0.48822882 0.68138518 0.79719795 0.72002764 0.15265408 0.25981414\n",
      "  0.60003694 0.63897567 0.79631458 0.59983239]\n",
      " [0.46999458 0.57030743 0.36130057 0.53839899 0.29059394 0.03306557\n",
      "  0.6884738  0.36218936 0.59571271 0.58029462]\n",
      " [0.51248859 0.0691438  0.10735253 0.79767757 0.29574825 0.66327965\n",
      "  0.12862453 0.31820167 0.01404665 0.31379381]\n",
      " [0.73123381 0.89925462 0.33932161 0.24617034 0.75112942 0.6986003\n",
      "  0.77046566 0.93296434 0.61817827 0.79678005]]\n",
      "\n",
      " Minimum Value :  0.004329669638803879\n",
      "\n",
      " Maximum Value :  0.9754705100195131\n"
     ]
    }
   ],
   "source": [
    "b = np.random.rand(10,10)\n",
    "print(\"Original Array : \\n\", b)\n",
    "bmin, bmax = b.min(), b.max()\n",
    "print(\"\\n Minimum Value : \" ,bmin,)\n",
    "print(\"\\n Maximum Value : \" ,bmax,)"
   ]
  },
  {
   "cell_type": "markdown",
   "id": "2ed1a81b",
   "metadata": {},
   "source": [
    "# Q6. Create a random vector of size 30 and find the mean value."
   ]
  },
  {
   "cell_type": "code",
   "execution_count": 6,
   "id": "21a08b94",
   "metadata": {},
   "outputs": [
    {
     "name": "stdout",
     "output_type": "stream",
     "text": [
      "Original array : \n",
      " [0.77660127 0.26556604 0.71050145 0.80388019 0.10642111 0.60598241\n",
      " 0.49771901 0.02718544 0.32246293 0.10927054 0.98886592 0.00613564\n",
      " 0.10183604 0.68257673 0.81028055 0.96766473 0.46886034 0.43404699\n",
      " 0.73296823 0.95926143 0.91289694 0.9232625  0.05688367 0.56611708\n",
      " 0.34559649 0.99180354 0.87345982 0.33536736 0.03940834 0.93406184]\n",
      "Mean Value : \n",
      " 0.5452314863381172\n"
     ]
    }
   ],
   "source": [
    "c = np.random.rand(30)\n",
    "print(\"Original array : \\n\", c)\n",
    "print(\"Mean Value : \\n\", np.mean(c))"
   ]
  },
  {
   "cell_type": "code",
   "execution_count": null,
   "id": "0eafe9e8",
   "metadata": {},
   "outputs": [],
   "source": []
  }
 ],
 "metadata": {
  "kernelspec": {
   "display_name": "Python 3",
   "language": "python",
   "name": "python3"
  },
  "language_info": {
   "codemirror_mode": {
    "name": "ipython",
    "version": 3
   },
   "file_extension": ".py",
   "mimetype": "text/x-python",
   "name": "python",
   "nbconvert_exporter": "python",
   "pygments_lexer": "ipython3",
   "version": "3.8.8"
  }
 },
 "nbformat": 4,
 "nbformat_minor": 5
}
